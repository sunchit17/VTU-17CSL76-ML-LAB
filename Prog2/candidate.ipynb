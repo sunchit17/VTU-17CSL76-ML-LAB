{
 "cells": [
  {
   "cell_type": "code",
   "execution_count": 1,
   "metadata": {},
   "outputs": [],
   "source": [
    "import csv"
   ]
  },
  {
   "cell_type": "code",
   "execution_count": 2,
   "metadata": {},
   "outputs": [
    {
     "name": "stdout",
     "output_type": "stream",
     "text": [
      "['Sky', 'AirTemp', 'Humidity', 'Wind', 'Water', 'Forecast', 'EnjoySport']\n",
      "['Sunny', 'Warm', 'Normal', 'Strong', 'Warm', 'Same', 'Yes']\n",
      "['Sunny', 'Warm', 'High', 'Strong', 'Warm', 'Same', 'Yes']\n",
      "['Rainy', 'Cold', 'High', 'Strong', 'Warm', 'Change', 'No']\n",
      "['Sunny', 'Warm', 'High', 'Strong', 'Cool', 'Change', 'Yes']\n"
     ]
    }
   ],
   "source": [
    "a=[]\n",
    "with open(\"data.csv\") as csfile:\n",
    "    reader = csv.reader(csfile)\n",
    "    for row in reader:\n",
    "        a.append(row)\n",
    "        print(row)"
   ]
  },
  {
   "cell_type": "code",
   "execution_count": 3,
   "metadata": {},
   "outputs": [
    {
     "name": "stdout",
     "output_type": "stream",
     "text": [
      "['?', '?', '?', '?', '?', '?']\n",
      "['0', '0', '0', '0', '0', '0']\n"
     ]
    }
   ],
   "source": [
    "num_attr = len(a[0])-1\n",
    "G=[\"?\"]*num_attr\n",
    "S=[\"0\"]*num_attr\n",
    "print(G)\n",
    "print(S)\n"
   ]
  },
  {
   "cell_type": "code",
   "execution_count": 12,
   "metadata": {},
   "outputs": [],
   "source": [
    "for j in range(0,num_attr):\n",
    "    S[j]=a[1][j]"
   ]
  },
  {
   "cell_type": "code",
   "execution_count": 13,
   "metadata": {},
   "outputs": [
    {
     "name": "stdout",
     "output_type": "stream",
     "text": [
      "For Training Example 0 Hypothesis S: 0 is ['Sunny', 'Warm', 'Normal', 'Strong', 'Warm', 'Same']\n",
      "For Training Example 0 Hypothesis G: 0 is []\n",
      "For Training Example 1 Hypothesis S: 1 is ['Sunny', 'Warm', 'Normal', 'Strong', 'Warm', 'Same']\n",
      "For Training Example 1 Hypothesis G: 1 is ['?', '?', '?', '?', '?', '?']\n",
      "For Training Example 1 Hypothesis S: 1 is ['Sunny', 'Warm', 'Normal', 'Strong', 'Warm', 'Same']\n",
      "For Training Example 1 Hypothesis G: 1 is []\n",
      "For Training Example 2 Hypothesis S: 2 is ['Sunny', 'Warm', '?', 'Strong', 'Warm', 'Same']\n",
      "For Training Example 2 Hypothesis G: 2 is ['?', '?', '?', '?', '?', '?']\n",
      "For Training Example 2 Hypothesis S: 2 is ['Sunny', 'Warm', '?', 'Strong', 'Warm', 'Same']\n",
      "For Training Example 2 Hypothesis G: 2 is []\n",
      "For Training Example 3 Hypothesis S: 3 is ['Sunny', 'Warm', '?', 'Strong', 'Warm', 'Same']\n",
      "For Training Example 3 Hypothesis G: 3 is [['Sunny', '?', '?', '?', '?', '?'], ['?', 'Warm', '?', '?', '?', '?'], ['?', '?', '?', '?', '?', 'Same']]\n",
      "For Training Example 4 Hypothesis S: 4 is ['Sunny', 'Warm', '?', 'Strong', '?', '?']\n",
      "For Training Example 4 Hypothesis G: 4 is [['Sunny', '?', '?', '?', '?', '?'], ['?', 'Warm', '?', '?', '?', '?']]\n",
      "For Training Example 4 Hypothesis S: 4 is ['Sunny', 'Warm', '?', 'Strong', '?', '?']\n",
      "For Training Example 4 Hypothesis G: 4 is [['Sunny', '?', '?', '?', '?', '?'], ['?', 'Warm', '?', '?', '?', '?']]\n"
     ]
    }
   ],
   "source": [
    "temp=[]\n",
    "for i in range(0,len(a)):\n",
    "    if a[i][num_attr]==\"Yes\":\n",
    "        \n",
    "        for j in range(0,num_attr):\n",
    "            if a[i][j]!=S[j]:\n",
    "                S[j]=\"?\"\n",
    "        \n",
    "        for j in range(0,num_attr):\n",
    "            for k in range(1,len(temp)):\n",
    "                if temp[k][j]!=\"?\" and temp[k][j]!=S[j]:\n",
    "                    del temp[k]\n",
    "        \n",
    "        print(\"For Training Example\",i,\"Hypothesis S:\",i,\"is\",S)\n",
    "        if(len(temp)==0):\n",
    "            print(\"For Training Example\",i,\"Hypothesis G:\",i,\"is\",G)\n",
    "        else:\n",
    "            print(\"For Training Example\",i,\"Hypothesis G:\",i,\"is\",temp)\n",
    "    \n",
    "    if a[i][num_attr]==\"No\":\n",
    "        for j in range(0,num_attr):\n",
    "            if S[j]!=a[i][j] and S[j]!=\"?\":\n",
    "                G[j]=S[j]\n",
    "                temp.append(G)\n",
    "                G=[\"?\"]*num_attr\n",
    "                \n",
    "    print(\"For Training Example\",i,\"Hypothesis S:\",i,\"is\",S)\n",
    "    print(\"For Training Example\",i,\"Hypothesis G:\",i,\"is\",temp)"
   ]
  }
 ],
 "metadata": {
  "kernelspec": {
   "display_name": "Python 3",
   "language": "python",
   "name": "python3"
  },
  "language_info": {
   "codemirror_mode": {
    "name": "ipython",
    "version": 3
   },
   "file_extension": ".py",
   "mimetype": "text/x-python",
   "name": "python",
   "nbconvert_exporter": "python",
   "pygments_lexer": "ipython3",
   "version": "3.7.3"
  }
 },
 "nbformat": 4,
 "nbformat_minor": 4
}

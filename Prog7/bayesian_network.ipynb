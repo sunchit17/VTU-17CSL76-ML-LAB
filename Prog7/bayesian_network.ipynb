{
 "cells": [
  {
   "cell_type": "code",
   "execution_count": 2,
   "metadata": {},
   "outputs": [
    {
     "name": "stdout",
     "output_type": "stream",
     "text": [
      "Few examples from the dataset are given below\n",
      "   age  sex  cp  trestbps  chol  fbs  restecg  thalach  exang  oldpeak  slope  \\\n",
      "0  age  sex  cp  trestbps  chol  fbs  restecg  thalach  exang  oldpeak  slope   \n",
      "1   63    1   3       145   233    1        0      150      0      2.3      0   \n",
      "2   37    1   2       130   250    0        1      187      0      3.5      0   \n",
      "3   41    0   1       130   204    0        0      172      0      1.4      2   \n",
      "4   56    1   1       120   236    0        1      178      0      0.8      2   \n",
      "\n",
      "   ca  thal  heartdisease  \n",
      "0  ca  thal  heartdisease  \n",
      "1   0     1             1  \n",
      "2   0     2             1  \n",
      "3   0     2             1  \n",
      "4   0     2             1  \n",
      "\n",
      "Attributes and datatypes\n",
      "age             object\n",
      "sex             object\n",
      "cp              object\n",
      "trestbps        object\n",
      "chol            object\n",
      "fbs             object\n",
      "restecg         object\n",
      "thalach         object\n",
      "exang           object\n",
      "oldpeak         object\n",
      "slope           object\n",
      "ca              object\n",
      "thal            object\n",
      "heartdisease    object\n",
      "dtype: object\n",
      "\n",
      "Learning CPDs using Maximum Likelihood Estimators...\n"
     ]
    },
    {
     "name": "stderr",
     "output_type": "stream",
     "text": [
      "c:\\users\\sunchit\\appdata\\local\\programs\\python\\python37\\lib\\site-packages\\pgmpy\\factors\\discrete\\DiscreteFactor.py:519: UserWarning: Found unknown state name. Trying to switch to using all state names as state numbers\n",
      "  \"Found unknown state name. Trying to switch to using all state names as state numbers\"\n",
      "Finding Elimination Order: :   0%|                                                               | 0/7 [00:00<?, ?it/s]\n",
      "  0%|                                                                                            | 0/7 [00:00<?, ?it/s]\u001b[A\n",
      "Eliminating: trestbps:   0%|                                                                     | 0/7 [00:00<?, ?it/s]\u001b[A\n",
      "Eliminating: chol:   0%|                                                                         | 0/7 [00:00<?, ?it/s]\u001b[A\n",
      "Eliminating: exang:   0%|                                                                        | 0/7 [00:00<?, ?it/s]\u001b[A\n",
      "Eliminating: fbs:   0%|                                                                          | 0/7 [00:00<?, ?it/s]\u001b[A\n",
      "Eliminating: restecg:   0%|                                                                      | 0/7 [00:00<?, ?it/s]\u001b[A\n",
      "Eliminating: thalach:   0%|                                                                      | 0/7 [00:00<?, ?it/s]\u001b[A\n",
      "Eliminating: sex: 100%|█████████████████████████████████████████████████████████████████| 7/7 [00:00<00:00, 206.44it/s]\u001b[A\n",
      "Finding Elimination Order: : 100%|██████████████████████████████████████████████████████| 7/7 [00:00<00:00, 131.26it/s]"
     ]
    },
    {
     "name": "stdout",
     "output_type": "stream",
     "text": [
      "\n",
      "Inferencing with Bayesian Network:\n",
      "\n",
      "1.Probability of HeartDisease given Age=20\n",
      "+----------------------------+---------------------+\n",
      "| heartdisease               |   phi(heartdisease) |\n",
      "+============================+=====================+\n",
      "| heartdisease(0)            |              0.4802 |\n",
      "+----------------------------+---------------------+\n",
      "| heartdisease(1)            |              0.4835 |\n",
      "+----------------------------+---------------------+\n",
      "| heartdisease(heartdisease) |              0.0363 |\n",
      "+----------------------------+---------------------+\n",
      "\n",
      "2. Probability of HeartDisease given chol (Cholestoral) =100\n"
     ]
    },
    {
     "name": "stderr",
     "output_type": "stream",
     "text": [
      "\n",
      "Finding Elimination Order: :   0%|                                                               | 0/6 [00:00<?, ?it/s]\n",
      "  0%|                                                                                            | 0/6 [00:00<?, ?it/s]\u001b[A\n",
      "Eliminating: trestbps:   0%|                                                                     | 0/6 [00:00<?, ?it/s]\u001b[A\n",
      "Eliminating: age:   0%|                                                                          | 0/6 [00:00<?, ?it/s]\u001b[A\n",
      "Eliminating: exang:   0%|                                                                        | 0/6 [00:00<?, ?it/s]\u001b[A\n",
      "Eliminating: fbs:   0%|                                                                          | 0/6 [00:00<?, ?it/s]\u001b[A\n",
      "Eliminating: restecg:   0%|                                                                      | 0/6 [00:00<?, ?it/s]\u001b[A\n",
      "Eliminating: thalach: 100%|█████████████████████████████████████████████████████████████| 6/6 [00:00<00:00, 182.29it/s]\u001b[A"
     ]
    },
    {
     "name": "stdout",
     "output_type": "stream",
     "text": [
      "+----------------------------+---------------------+\n",
      "| heartdisease               |   phi(heartdisease) |\n",
      "+============================+=====================+\n",
      "| heartdisease(0)            |              0.0000 |\n",
      "+----------------------------+---------------------+\n",
      "| heartdisease(1)            |              1.0000 |\n",
      "+----------------------------+---------------------+\n",
      "| heartdisease(heartdisease) |              0.0000 |\n",
      "+----------------------------+---------------------+\n"
     ]
    },
    {
     "name": "stderr",
     "output_type": "stream",
     "text": [
      "\n"
     ]
    }
   ],
   "source": [
    "import numpy as np\n",
    "import pandas as pd\n",
    "import csv\n",
    "from pgmpy.estimators import MaximumLikelihoodEstimator\n",
    "from pgmpy.models import BayesianModel\n",
    "from pgmpy.inference import VariableElimination\n",
    "# Read the attributes\n",
    "lines = list(csv.reader(open('heart.csv', 'r')));\n",
    "attributes = lines[0]\n",
    "#attributes = ['age', 'sex', 'cp', 'trestbps', 'chol', 'fbs', 'restecg', 'thalach', 'exang','oldpeak', 'slope', 'ca'\n",
    "# Read Cleveland Heart disease data\n",
    "heartDisease = pd.read_csv('heart.csv', names = attributes)\n",
    "heartDisease = heartDisease.replace('?', np.nan)\n",
    "# Display the data\n",
    "print('Few examples from the dataset are given below')\n",
    "print(heartDisease.head())\n",
    "print('\\nAttributes and datatypes')\n",
    "print(heartDisease.dtypes)\n",
    "# Model Bayesian Network\n",
    "model = BayesianModel([ ('age', 'trestbps'), ('age', 'fbs'), ('sex', 'trestbps'),('sex', 'trestbps'), ('exang', 'trestbps'), ('trestbps', 'heartdisease'),\n",
    " ('fbs', 'heartdisease'), ('heartdisease', 'restecg'), ('heartdisease', 'thalach'),\n",
    " ('heartdisease', 'chol')])\n",
    "# Learning CPDs using Maximum Likelihood Estimators\n",
    "print('\\nLearning CPDs using Maximum Likelihood Estimators...')\n",
    "model.fit(heartDisease, estimator=MaximumLikelihoodEstimator)\n",
    "# Deducing with Bayesian Network\n",
    "print('\\nInferencing with Bayesian Network:')\n",
    "HeartDisease_infer = VariableElimination(model)\n",
    "print('\\n1.Probability of HeartDisease given Age=20')\n",
    "q = HeartDisease_infer.query(variables=['heartdisease'], evidence={'age': 40})\n",
    "print(q)\n",
    "print('\\n2. Probability of HeartDisease given chol (Cholestoral) =100')\n",
    "q = HeartDisease_infer.query(variables=['heartdisease'], evidence={'sex': 0, 'chol': 100})\n",
    "print(q)\n"
   ]
  },
  {
   "cell_type": "code",
   "execution_count": null,
   "metadata": {},
   "outputs": [],
   "source": []
  },
  {
   "cell_type": "code",
   "execution_count": null,
   "metadata": {},
   "outputs": [],
   "source": []
  }
 ],
 "metadata": {
  "kernelspec": {
   "display_name": "Python 3",
   "language": "python",
   "name": "python3"
  },
  "language_info": {
   "codemirror_mode": {
    "name": "ipython",
    "version": 3
   },
   "file_extension": ".py",
   "mimetype": "text/x-python",
   "name": "python",
   "nbconvert_exporter": "python",
   "pygments_lexer": "ipython3",
   "version": "3.7.3"
  }
 },
 "nbformat": 4,
 "nbformat_minor": 4
}

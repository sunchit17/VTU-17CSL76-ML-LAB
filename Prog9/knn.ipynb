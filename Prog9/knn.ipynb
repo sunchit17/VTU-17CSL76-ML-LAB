{
 "cells": [
  {
   "cell_type": "code",
   "execution_count": 1,
   "metadata": {},
   "outputs": [],
   "source": [
    "from sklearn.datasets import load_iris\n",
    "from sklearn.neighbors import KNeighborsClassifier\n",
    "import numpy as np\n",
    "from sklearn.model_selection import train_test_split"
   ]
  },
  {
   "cell_type": "code",
   "execution_count": 2,
   "metadata": {},
   "outputs": [
    {
     "name": "stdout",
     "output_type": "stream",
     "text": [
      "Iris Target Names:\n",
      " ['setosa' 'versicolor' 'virginica']\n"
     ]
    }
   ],
   "source": [
    "iris = load_iris()\n",
    "print(\"Iris Target Names:\\n\", iris.target_names)"
   ]
  },
  {
   "cell_type": "code",
   "execution_count": 3,
   "metadata": {},
   "outputs": [],
   "source": [
    "X_train, X_test, y_train, y_test = train_test_split(\n",
    "    iris.data, iris.target)\n",
    " \n",
    "kn = KNeighborsClassifier(n_neighbors=1)\n",
    "kn.fit(X_train, y_train)\n",
    "\n",
    "y_pred = kn.predict(X_test)"
   ]
  },
  {
   "cell_type": "code",
   "execution_count": 4,
   "metadata": {},
   "outputs": [
    {
     "name": "stdout",
     "output_type": "stream",
     "text": [
      "\n",
      "First few predictions:\n",
      "Actual\t\t\tPredicted\n",
      "setosa \t\t setosa\n",
      "versicolor \t\t versicolor\n",
      "versicolor \t\t versicolor\n",
      "setosa \t\t setosa\n",
      "setosa \t\t setosa\n",
      "versicolor \t\t virginica\n",
      "setosa \t\t setosa\n",
      "virginica \t\t virginica\n",
      "versicolor \t\t versicolor\n",
      "setosa \t\t setosa\n"
     ]
    }
   ],
   "source": [
    "print(\"\\nFirst few predictions:\\nActual\\t\\t\\tPredicted\")\n",
    "target_names = iris.target_names\n",
    "for i in range(10):\n",
    "    print(target_names[y_test[i]], \"\\t\\t\", target_names[y_pred[i]])\n"
   ]
  },
  {
   "cell_type": "code",
   "execution_count": 5,
   "metadata": {},
   "outputs": [
    {
     "name": "stdout",
     "output_type": "stream",
     "text": [
      "\n",
      "Accuracy: 0.8947368421052632\n"
     ]
    }
   ],
   "source": [
    "from sklearn import metrics\n",
    "print(\"\\nAccuracy:\", metrics.accuracy_score(y_test, y_pred))"
   ]
  }
 ],
 "metadata": {
  "kernelspec": {
   "display_name": "Python 3",
   "language": "python",
   "name": "python3"
  },
  "language_info": {
   "codemirror_mode": {
    "name": "ipython",
    "version": 3
   },
   "file_extension": ".py",
   "mimetype": "text/x-python",
   "name": "python",
   "nbconvert_exporter": "python",
   "pygments_lexer": "ipython3",
   "version": "3.7.3"
  }
 },
 "nbformat": 4,
 "nbformat_minor": 4
}

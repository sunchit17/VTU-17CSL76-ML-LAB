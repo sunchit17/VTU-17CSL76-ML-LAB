{
 "cells": [
  {
   "cell_type": "code",
   "execution_count": 1,
   "metadata": {},
   "outputs": [],
   "source": [
    "from sklearn.datasets import fetch_20newsgroups_vectorized\n",
    "from sklearn.naive_bayes import MultinomialNB\n",
    "from sklearn.model_selection import train_test_split\n",
    "from sklearn import metrics"
   ]
  },
  {
   "cell_type": "code",
   "execution_count": 2,
   "metadata": {},
   "outputs": [],
   "source": [
    "doc = fetch_20newsgroups_vectorized()\n",
    "X_train,X_test,y_train,y_test = train_test_split(doc.data,doc.target)"
   ]
  },
  {
   "cell_type": "code",
   "execution_count": 3,
   "metadata": {},
   "outputs": [
    {
     "data": {
      "text/plain": [
       "MultinomialNB()"
      ]
     },
     "execution_count": 3,
     "metadata": {},
     "output_type": "execute_result"
    }
   ],
   "source": [
    "model = MultinomialNB()\n",
    "model.fit(X_train,y_train)"
   ]
  },
  {
   "cell_type": "code",
   "execution_count": 4,
   "metadata": {},
   "outputs": [
    {
     "name": "stdout",
     "output_type": "stream",
     "text": [
      "0.7278190173206079\n"
     ]
    }
   ],
   "source": [
    "print(metrics.accuracy_score(y_test,model.predict(X_test)))"
   ]
  },
  {
   "cell_type": "code",
   "execution_count": 5,
   "metadata": {},
   "outputs": [
    {
     "name": "stdout",
     "output_type": "stream",
     "text": [
      "[0.9        0.76666667 0.86666667 0.53554502 0.93396226 0.96521739\n",
      " 0.87962963 0.66028708 0.94326241 0.8375     0.94117647 0.38793103\n",
      " 0.95061728 0.97637795 0.89403974 0.38419619 0.875      0.94354839\n",
      " 1.         0.        ]\n"
     ]
    },
    {
     "name": "stderr",
     "output_type": "stream",
     "text": [
      "c:\\users\\sunchit\\appdata\\local\\programs\\python\\python37\\lib\\site-packages\\sklearn\\metrics\\_classification.py:1245: UndefinedMetricWarning: Precision is ill-defined and being set to 0.0 in labels with no predicted samples. Use `zero_division` parameter to control this behavior.\n",
      "  _warn_prf(average, modifier, msg_start, len(result))\n"
     ]
    }
   ],
   "source": [
    "print(metrics.precision_score(y_test,model.predict(X_test),average=None))"
   ]
  },
  {
   "cell_type": "code",
   "execution_count": 6,
   "metadata": {},
   "outputs": [
    {
     "name": "stdout",
     "output_type": "stream",
     "text": [
      "[0.37815126 0.67647059 0.68874172 0.84962406 0.6971831  0.77083333\n",
      " 0.66901408 0.94520548 0.82098765 0.91156463 0.90566038 0.96428571\n",
      " 0.49358974 0.78980892 0.9375     0.95918367 0.8        0.83571429\n",
      " 0.07936508 0.        ]\n"
     ]
    }
   ],
   "source": [
    "print(metrics.recall_score(y_test,model.predict(X_test),average=None))"
   ]
  },
  {
   "cell_type": "code",
   "execution_count": 7,
   "metadata": {},
   "outputs": [
    {
     "data": {
      "text/plain": [
       "['alt.atheism',\n",
       " 'comp.graphics',\n",
       " 'comp.os.ms-windows.misc',\n",
       " 'comp.sys.ibm.pc.hardware',\n",
       " 'comp.sys.mac.hardware',\n",
       " 'comp.windows.x',\n",
       " 'misc.forsale',\n",
       " 'rec.autos',\n",
       " 'rec.motorcycles',\n",
       " 'rec.sport.baseball',\n",
       " 'rec.sport.hockey',\n",
       " 'sci.crypt',\n",
       " 'sci.electronics',\n",
       " 'sci.med',\n",
       " 'sci.space',\n",
       " 'soc.religion.christian',\n",
       " 'talk.politics.guns',\n",
       " 'talk.politics.mideast',\n",
       " 'talk.politics.misc',\n",
       " 'talk.religion.misc']"
      ]
     },
     "execution_count": 7,
     "metadata": {},
     "output_type": "execute_result"
    }
   ],
   "source": [
    "doc.target_names\n"
   ]
  },
  {
   "cell_type": "code",
   "execution_count": 8,
   "metadata": {},
   "outputs": [
    {
     "data": {
      "text/plain": [
       "array([17,  7, 10, ..., 14, 12, 11])"
      ]
     },
     "execution_count": 8,
     "metadata": {},
     "output_type": "execute_result"
    }
   ],
   "source": [
    "doc.target"
   ]
  },
  {
   "cell_type": "code",
   "execution_count": 10,
   "metadata": {},
   "outputs": [
    {
     "data": {
      "text/plain": [
       "<11314x130107 sparse matrix of type '<class 'numpy.float64'>'\n",
       "\twith 1787565 stored elements in Compressed Sparse Row format>"
      ]
     },
     "execution_count": 10,
     "metadata": {},
     "output_type": "execute_result"
    }
   ],
   "source": [
    "doc.data"
   ]
  },
  {
   "cell_type": "code",
   "execution_count": 11,
   "metadata": {},
   "outputs": [
    {
     "name": "stdout",
     "output_type": "stream",
     "text": [
      "[[ 45   0   0   0   0   0   0   1   1   0   0   5   0   0   1  66   0   0\n",
      "    0   0]\n",
      " [  0  92   3  12   1   2   2   2   0   1   0  16   0   1   1   3   0   0\n",
      "    0   0]\n",
      " [  0   2 104  23   0   1   2   2   0   0   0  15   0   0   1   1   0   0\n",
      "    0   0]\n",
      " [  0   2   4 113   2   0   1   3   0   0   0   8   0   0   0   0   0   0\n",
      "    0   0]\n",
      " [  0   2   3  18  99   1   2   5   1   0   0   9   1   0   0   1   0   0\n",
      "    0   0]\n",
      " [  0   5   4   6   1 111   0   0   0   0   2  15   0   0   0   0   0   0\n",
      "    0   0]\n",
      " [  0   0   0  14   0   0  95  13   1   2   1  13   1   0   0   2   0   0\n",
      "    0   0]\n",
      " [  0   0   0   1   0   0   0 138   1   1   1   1   1   0   0   2   0   0\n",
      "    0   0]\n",
      " [  0   0   0   0   0   0   2  17 133   0   0   5   0   0   0   4   1   0\n",
      "    0   0]\n",
      " [  0   3   0   1   0   0   0   2   1 134   3   1   0   1   0   1   0   0\n",
      "    0   0]\n",
      " [  0   1   0   1   0   0   1   1   0   8 144   1   0   0   0   2   0   0\n",
      "    0   0]\n",
      " [  0   2   1   1   0   0   0   0   0   0   0 135   0   0   0   1   0   0\n",
      "    0   0]\n",
      " [  0   7   0  18   3   0   1  12   0   3   0  31  77   0   3   0   0   1\n",
      "    0   0]\n",
      " [  0   2   0   0   0   0   1   1   0   1   0  12   0 124   2  14   0   0\n",
      "    0   0]\n",
      " [  0   1   0   0   0   0   0   1   1   0   0   3   0   0 135   3   0   0\n",
      "    0   0]\n",
      " [  0   1   0   2   0   0   0   1   0   0   0   2   0   0   0 141   0   0\n",
      "    0   0]\n",
      " [  0   0   1   0   0   0   0   1   0   1   0  18   0   0   0   7 112   0\n",
      "    0   0]\n",
      " [  0   0   0   0   0   0   0   0   1   1   0   4   1   0   2  14   0 117\n",
      "    0   0]\n",
      " [  0   0   0   0   0   0   1   8   1   4   1  48   0   0   5  37   6   5\n",
      "   10   0]\n",
      " [  5   0   0   1   0   0   0   1   0   4   1   6   0   1   1  68   9   1\n",
      "    0   0]]\n"
     ]
    }
   ],
   "source": [
    "print(metrics.confusion_matrix(y_test,model.predict(X_test)))"
   ]
  },
  {
   "cell_type": "code",
   "execution_count": null,
   "metadata": {},
   "outputs": [],
   "source": []
  }
 ],
 "metadata": {
  "kernelspec": {
   "display_name": "Python 3",
   "language": "python",
   "name": "python3"
  },
  "language_info": {
   "codemirror_mode": {
    "name": "ipython",
    "version": 3
   },
   "file_extension": ".py",
   "mimetype": "text/x-python",
   "name": "python",
   "nbconvert_exporter": "python",
   "pygments_lexer": "ipython3",
   "version": "3.7.3"
  }
 },
 "nbformat": 4,
 "nbformat_minor": 4
}

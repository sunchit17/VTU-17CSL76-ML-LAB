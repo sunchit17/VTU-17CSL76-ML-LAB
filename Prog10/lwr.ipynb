{
 "cells": [
  {
   "cell_type": "code",
   "execution_count": 1,
   "metadata": {},
   "outputs": [],
   "source": [
    "import numpy as np\n",
    "import pandas as pd\n",
    "import matplotlib.pyplot as plt"
   ]
  },
  {
   "cell_type": "code",
   "execution_count": 2,
   "metadata": {},
   "outputs": [],
   "source": [
    "df = pd.read_csv(\"tips.csv\")\n",
    "X = df['total_bill']\n",
    "Y = df['tip']"
   ]
  },
  {
   "cell_type": "code",
   "execution_count": 3,
   "metadata": {},
   "outputs": [],
   "source": [
    "from sklearn.model_selection import train_test_split"
   ]
  },
  {
   "cell_type": "code",
   "execution_count": 4,
   "metadata": {},
   "outputs": [],
   "source": [
    "x_train,x_test,y_train,y_test = train_test_split(X,Y)"
   ]
  },
  {
   "cell_type": "code",
   "execution_count": 8,
   "metadata": {},
   "outputs": [
    {
     "data": {
      "image/png": "[encoded data removed]",
      "text/plain": [
       "<Figure size 432x288 with 1 Axes>"
      ]
     },
     "metadata": {
      "needs_background": "light"
     },
     "output_type": "display_data"
    }
   ],
   "source": [
    "def localRegression(X0, X, Y, tau):\n",
    "    X0 = np.r_[1, X0]\n",
    "    X = np.c_[np.ones(len(X)), X]\n",
    "    xw = X.T * kernel(X0, X, tau)\n",
    "    # @ is numpy matrix multiplication operator\n",
    "    beta = np.linalg.pinv(xw@X)@xw@Y\n",
    "\n",
    "    # multiply point by weight to get prediction\n",
    "    return X0@beta\n",
    "\n",
    "def kernel(X0, X, tau):  \n",
    "    return(np.exp(np.sum( (X-X0)**2 / (-2*tau**2), axis=1)) )\n",
    "     \n",
    "def plot_lwr(tau):\n",
    "    domain = x_test\n",
    "    prediction = [localRegression(X0, x_train, y_train, tau) for X0 in domain]\n",
    "    plt.scatter(x_train,y_train)\n",
    "    plt.plot(domain,prediction,color='red')\n",
    "    plt.show()\n",
    "\n",
    "plot_lwr(50)"
   ]
  }
 ],
 "metadata": {
  "kernelspec": {
   "display_name": "Python 3",
   "language": "python",
   "name": "python3"
  },
  "language_info": {
   "codemirror_mode": {
    "name": "ipython",
    "version": 3
   },
   "file_extension": ".py",
   "mimetype": "text/x-python",
   "name": "python",
   "nbconvert_exporter": "python",
   "pygments_lexer": "ipython3",
   "version": "3.7.3"
  }
 },
 "nbformat": 4,
 "nbformat_minor": 4
}

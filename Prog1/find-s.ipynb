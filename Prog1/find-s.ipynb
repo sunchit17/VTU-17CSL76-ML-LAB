{
 "cells": [
  {
   "cell_type": "code",
   "execution_count": 1,
   "metadata": {},
   "outputs": [],
   "source": [
    "import csv"
   ]
  },
  {
   "cell_type": "code",
   "execution_count": 2,
   "metadata": {},
   "outputs": [
    {
     "name": "stdout",
     "output_type": "stream",
     "text": [
      "['Sky', 'AirTemp', 'Humidity', 'Wind', 'Water', 'Forecast', 'EnjoySport']\n",
      "['Sunny', 'Warm', 'Normal', 'Strong', 'Warm', 'Same', 'Yes']\n",
      "['Sunny', 'Warm', 'High', 'Strong', 'Warm', 'Same', 'Yes']\n",
      "['Rainy', 'Cold', 'High', 'Strong', 'Warm', 'Change', 'No']\n",
      "['Sunny', 'Warm', 'High', 'Strong', 'Cool', 'Change', 'Yes']\n"
     ]
    }
   ],
   "source": [
    "a=[]\n",
    "with open(\"data.csv\") as csfile:\n",
    "    reader = csv.reader(csfile)\n",
    "    for row in reader:\n",
    "        a.append(row)\n",
    "        print(row)"
   ]
  },
  {
   "cell_type": "code",
   "execution_count": 5,
   "metadata": {},
   "outputs": [
    {
     "name": "stdout",
     "output_type": "stream",
     "text": [
      "['?', '?', '?', '?', '?', '?']\n",
      "['0', '0', '0', '0', '0', '0']\n"
     ]
    }
   ],
   "source": [
    "num_attributes = len(a[0])-1\n",
    "generic_hypothesis = [\"?\"]*num_attributes\n",
    "specific_hypothesis = [\"0\"]*num_attributes\n",
    "print(generic_hypothesis)\n",
    "print(specific_hypothesis)"
   ]
  },
  {
   "cell_type": "code",
   "execution_count": 12,
   "metadata": {},
   "outputs": [
    {
     "name": "stdout",
     "output_type": "stream",
     "text": [
      "Find-s : Findind Maximally Specific Hypothesis\n",
      "Training Example: 1 hypothesis: ['Sunny', 'Warm', 'Normal', 'Strong', 'Warm', 'Same']\n",
      "Training Example: 2 hypothesis: ['Sunny', 'Warm', '?', 'Strong', 'Warm', 'Same']\n",
      "Training Example: 3 hypothesis: ['Sunny', 'Warm', '?', 'Strong', 'Warm', 'Same']\n",
      "Training Example: 4 hypothesis: ['Sunny', 'Warm', '?', 'Strong', '?', '?']\n",
      "Maximally Specific Hypothesis is:\n",
      "['Sunny', 'Warm', '?', 'Strong', '?', '?']\n"
     ]
    }
   ],
   "source": [
    "hypothesis = specific_hypothesis\n",
    "print(\"Find-s : Findind Maximally Specific Hypothesis\")\n",
    "hypothesis = a[1][:-1]\n",
    "for i in range(1,len(a)):\n",
    "    if a[i][num_attributes]==\"Yes\":\n",
    "        for j in range(num_attributes):\n",
    "            if a[i][j] != hypothesis[j]:\n",
    "                hypothesis[j]=\"?\"\n",
    "            else:\n",
    "                hypothesis[j]=a[i][j]\n",
    "    print(\"Training Example:\",+i,\"hypothesis:\",hypothesis)\n",
    "print(\"Maximally Specific Hypothesis is:\")\n",
    "print(hypothesis)"
   ]
  },
  {
   "cell_type": "code",
   "execution_count": null,
   "metadata": {},
   "outputs": [],
   "source": []
  }
 ],
 "metadata": {
  "kernelspec": {
   "display_name": "Python 3",
   "language": "python",
   "name": "python3"
  },
  "language_info": {
   "codemirror_mode": {
    "name": "ipython",
    "version": 3
   },
   "file_extension": ".py",
   "mimetype": "text/x-python",
   "name": "python",
   "nbconvert_exporter": "python",
   "pygments_lexer": "ipython3",
   "version": "3.7.3"
  }
 },
 "nbformat": 4,
 "nbformat_minor": 4
}
